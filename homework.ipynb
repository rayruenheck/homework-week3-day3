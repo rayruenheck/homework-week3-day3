{
 "cells": [
  {
   "cell_type": "markdown",
   "metadata": {},
   "source": [
    "# APIs\n"
   ]
  },
  {
   "cell_type": "markdown",
   "metadata": {},
   "source": [
    "## Tasks Today:\n",
    "1) <b>Requests and the pokemon API </b> <br>\n",
    " "
   ]
  },
  {
   "cell_type": "markdown",
   "metadata": {},
   "source": [
    "# working with APis"
   ]
  },
  {
   "cell_type": "markdown",
   "metadata": {},
   "source": [
    "<p> What exactly is an API? <br> <br>\n",
    "API is the acronym for Application Programming Interface, which is a software intermediary that allows two applications to talk to each other. Each time you use an app like Facebook, send an instant message, or check the weather on your phone, you're using an API. </p>"
   ]
  },
  {
   "cell_type": "markdown",
   "metadata": {},
   "source": [
    "### The Poke API  allows you to retreive a pokemon's information from PokeAPI https://pokeapi.co/\n",
    "\n"
   ]
  },
  {
   "cell_type": "code",
   "execution_count": 9,
   "metadata": {},
   "outputs": [
    {
     "name": "stdout",
     "output_type": "stream",
     "text": [
      "what Pokemon are you looking for? psyduck\n",
      "success\n"
     ]
    }
   ],
   "source": [
    "# making an API call\n",
    "import requests\n",
    "\n",
    "api_endpoint = 'https://pokeapi.co/api/v2/pokemon/'\n",
    "\n",
    "requests.get(api_endpoint+'psyduck')\n",
    "\n",
    "pokemon = input('what Pokemon are you looking for? ')\n",
    "\n",
    "response = requests.get(f'{api_endpoint}{pokemon}')\n",
    "\n",
    "response.status_code\n",
    "\n",
    "if response.status_code == 200:\n",
    "    data= response.json()\n",
    "    print(\"success\")\n",
    "else:\n",
    "    print(f'Error, Status Code {response.status_code}')\n"
   ]
  },
  {
   "cell_type": "markdown",
   "metadata": {},
   "source": [
    "### Display a Pokemon's name, weight, abilities, and types"
   ]
  },
  {
   "cell_type": "code",
   "execution_count": 36,
   "metadata": {},
   "outputs": [],
   "source": [
    "# get the name\n",
    "name = data['forms'][0]['name']\n"
   ]
  },
  {
   "cell_type": "code",
   "execution_count": 26,
   "metadata": {},
   "outputs": [],
   "source": [
    "# get types\n",
    "types = data['types']"
   ]
  },
  {
   "cell_type": "code",
   "execution_count": 25,
   "metadata": {},
   "outputs": [],
   "source": [
    "# get weight\n",
    "weight = data['weight']"
   ]
  },
  {
   "cell_type": "code",
   "execution_count": 21,
   "metadata": {},
   "outputs": [],
   "source": [
    "# get abilities\n",
    "abilities = data['abilities']"
   ]
  },
  {
   "cell_type": "code",
   "execution_count": 24,
   "metadata": {},
   "outputs": [
    {
     "data": {
      "text/plain": [
       "['damp', 'cloud-nine', 'swift-swim']"
      ]
     },
     "execution_count": 24,
     "metadata": {},
     "output_type": "execute_result"
    }
   ],
   "source": [
    "[ability_dict['ability']['name'] for ability_dict in abilities]"
   ]
  },
  {
   "cell_type": "code",
   "execution_count": 42,
   "metadata": {},
   "outputs": [
    {
     "name": "stdout",
     "output_type": "stream",
     "text": [
      "{'name': 'psyduck', 'types': 'water', 'weight': 196, 'abilities': ['damp', 'cloud-nine', 'swift-swim']}\n"
     ]
    }
   ],
   "source": [
    "# Create a structure for a single pokemon\n",
    "\n",
    "pokemon = {}\n",
    "\n",
    "pokemon['name'] = data['forms'][0]['name']\n",
    "pokemon['types'] = data['types'][0]['type']['name']\n",
    "pokemon['weight'] = data['weight']\n",
    "pokemon['abilities'] = [ability_dict['ability']['name'] for ability_dict in abilities]\n",
    "\n",
    "print(pokemon)\n"
   ]
  },
  {
   "cell_type": "code",
   "execution_count": null,
   "metadata": {},
   "outputs": [],
   "source": []
  },
  {
   "cell_type": "markdown",
   "metadata": {},
   "source": [
    "#### Create a function to Pull in your own Pokemon's data "
   ]
  },
  {
   "cell_type": "code",
   "execution_count": 74,
   "metadata": {},
   "outputs": [
    {
     "name": "stdout",
     "output_type": "stream",
     "text": [
      "success\n",
      "{'name': 'squirtle', 'types': 'water', 'weight': 90, 'abilities': 'torrent'}\n"
     ]
    }
   ],
   "source": [
    "#access api endpoint with pokemon input\n",
    "#check status\n",
    "#access dict keys : abilities, types,name,weight\n",
    "#store those values in dict\n",
    "def poke_api_call(pokemon):\n",
    "    pokemon_dict = {}\n",
    "    response = requests.get(f'https://pokeapi.co/api/v2/pokemon/{pokemon}')\n",
    "    if response.status_code == 200:\n",
    "        print('success')\n",
    "        data = response.json()\n",
    "        pokemon_dict['name'] = data['forms'][0]['name']\n",
    "        pokemon_dict['types'] = data['types'][0]['type']['name']\n",
    "        pokemon_dict['weight'] = data['weight']\n",
    "        pokemon_dict['abilities'] = data['abilities'][0]['ability']['name']\n",
    "    else:\n",
    "        print(f'error bad request {response.status_code}')\n",
    "        \n",
    "    return pokemon_dict\n",
    "\n",
    "print(poke_api_call('squirtle'))\n"
   ]
  },
  {
   "cell_type": "markdown",
   "metadata": {},
   "source": [
    "Choose your pokemon"
   ]
  },
  {
   "cell_type": "code",
   "execution_count": 79,
   "metadata": {},
   "outputs": [
    {
     "name": "stdout",
     "output_type": "stream",
     "text": [
      "[90, 112, 415, 705, 715, 375]\n"
     ]
    }
   ],
   "source": [
    "from random import randint\n",
    "# Random number generated for each pokemon id\n",
    "random_team = [randint(1,898) for i in range(6)]\n",
    "print(random_team)\n",
    "\n",
    "your_team = ['electabuzz', 'haunter','tyranitar','blaziken','marowak','dragonair']\n"
   ]
  },
  {
   "cell_type": "code",
   "execution_count": 82,
   "metadata": {},
   "outputs": [
    {
     "name": "stdout",
     "output_type": "stream",
     "text": [
      "success\n",
      "success\n",
      "success\n",
      "success\n",
      "success\n",
      "success\n",
      "{'electabuzz': {'name': 'electabuzz', 'types': 'electric', 'weight': 300, 'abilities': 'static'}, 'haunter': {'name': 'haunter', 'types': 'ghost', 'weight': 1, 'abilities': 'levitate'}, 'tyranitar': {'name': 'tyranitar', 'types': 'rock', 'weight': 2020, 'abilities': 'sand-stream'}, 'blaziken': {'name': 'blaziken', 'types': 'fire', 'weight': 520, 'abilities': 'blaze'}, 'marowak': {'name': 'marowak', 'types': 'ground', 'weight': 450, 'abilities': 'rock-head'}, 'dragonair': {'name': 'dragonair', 'types': 'dragon', 'weight': 165, 'abilities': 'shed-skin'}}\n"
     ]
    }
   ],
   "source": [
    "your_team_dict = {pokemon:poke_api_call(pokemon) for pokemon in your_team}\n",
    "\n",
    "print(your_team_dict)"
   ]
  },
  {
   "cell_type": "markdown",
   "metadata": {},
   "source": [
    "#### Use your function to create a dictionary of your Johto League 6  (favorite 6 pokemon)"
   ]
  },
  {
   "cell_type": "code",
   "execution_count": 77,
   "metadata": {},
   "outputs": [
    {
     "name": "stdout",
     "output_type": "stream",
     "text": [
      "success\n",
      "success\n",
      "success\n",
      "success\n",
      "success\n",
      "success\n",
      "foongus   {'name': 'foongus', 'types': 'grass', 'weight': 10, 'abilities': 'effect-spore'}\n",
      "swampert   {'name': 'swampert', 'types': 'water', 'weight': 819, 'abilities': 'torrent'}\n",
      "gossifleur   {'name': 'gossifleur', 'types': 'grass', 'weight': 22, 'abilities': 'cotton-down'}\n",
      "bouffalant   {'name': 'bouffalant', 'types': 'normal', 'weight': 946, 'abilities': 'reckless'}\n",
      "lombre   {'name': 'lombre', 'types': 'water', 'weight': 325, 'abilities': 'swift-swim'}\n",
      "steenee   {'name': 'steenee', 'types': 'grass', 'weight': 82, 'abilities': 'leaf-guard'}\n"
     ]
    }
   ],
   "source": [
    "# Place all 6 of your pokemon on the object below, each pokemon should have at least as much info as Pikachu did.\n",
    "my_six_pokemon = {}\n",
    "\n",
    "for i in random_team:\n",
    "    poke_dict = poke_api_call(i)\n",
    "    my_six_pokemon[poke_dict['name']] = poke_dict\n",
    "for k in my_six_pokemon:\n",
    "    print(k, ' ', my_six_pokemon[k])\n"
   ]
  },
  {
   "cell_type": "markdown",
   "metadata": {},
   "source": [
    "## Lets create a class called 'Pokemon' and create our pokemon as instances"
   ]
  },
  {
   "cell_type": "code",
   "execution_count": 83,
   "metadata": {},
   "outputs": [],
   "source": [
    "pokemon1 = {\n",
    "    'abilities':['abilities'],\n",
    "    'name':data['name'],\n",
    "    'type':data['types'],\n",
    "    'weight':data['weight']\n",
    "}"
   ]
  },
  {
   "cell_type": "code",
   "execution_count": 47,
   "metadata": {},
   "outputs": [],
   "source": [
    "class Pokemon1():\n",
    "    def __init__(self, name, nickname):\n",
    "        self.name = name\n",
    "        self.nickname = nickname\n",
    "        self.abilities = []\n",
    "        self.types = []\n",
    "        self.weight = None\n",
    "        self.image = None\n",
    "        self.call_poke_api()\n",
    "    def call_poke_api(self):\n",
    "        response = requests.get(f'https://pokeapi.co/api/v2/pokemon/{self.name}')\n",
    "        if response.status_code == 200:\n",
    "            print('success')\n",
    "            data = response.json()\n",
    "            self.abilities = [ability_object['ability']['name'] for ability_object in data['abilities']]\n",
    "            self.type = [type_object['type']['name'] for type_object in data['types']]\n",
    "            self.weight = data['weight']\n",
    "            self.image = data['sprites']['versions']['generation-v']['black-white']['animated']['front_default']\n",
    "            if not self.image:\n",
    "                self.image = data['sprites']['other']['dream_world']['front_default']\n",
    "            if not self.image:\n",
    "                self.image = data['sprites']['front_default']\n",
    "        else:\n",
    "            print(f'Error status code {response.status_code}')\n",
    "     "
   ]
  },
  {
   "cell_type": "code",
   "execution_count": 48,
   "metadata": {},
   "outputs": [
    {
     "name": "stdout",
     "output_type": "stream",
     "text": [
      "success\n",
      "success\n",
      "60\n",
      "['static', 'lightning-rod']\n",
      "https://raw.githubusercontent.com/PokeAPI/sprites/master/sprites/pokemon/versions/generation-v/black-white/animated/25.gif\n"
     ]
    },
    {
     "data": {
      "image/gif": "[encoded data removed]",
      "text/plain": [
       "<IPython.core.display.Image object>"
      ]
     },
     "metadata": {},
     "output_type": "display_data"
    }
   ],
   "source": [
    "from IPython.display import Image\n",
    "\n",
    "new_poke = Pokemon1('pikachu', 'zappy rodent')\n",
    "new_poke.call_poke_api()\n",
    "print(new_poke.weight)\n",
    "print(new_poke.abilities)\n",
    "print(new_poke.image)\n",
    "\n",
    "display(Image(new_poke.image))\n",
    "\n"
   ]
  },
  {
   "cell_type": "code",
   "execution_count": 49,
   "metadata": {},
   "outputs": [
    {
     "name": "stdout",
     "output_type": "stream",
     "text": [
      "success\n",
      "69\n",
      "['overgrow', 'chlorophyll']\n",
      "https://raw.githubusercontent.com/PokeAPI/sprites/master/sprites/pokemon/versions/generation-v/black-white/animated/1.gif\n"
     ]
    }
   ],
   "source": [
    "another_poke = Pokemon1('1', 'vine turtle')\n",
    "another_poke.call_poke_api\n",
    "print(another_poke.weight)\n",
    "print(another_poke.abilities)\n",
    "print(another_poke.image)"
   ]
  },
  {
   "cell_type": "code",
   "execution_count": 50,
   "metadata": {},
   "outputs": [
    {
     "data": {
      "image/gif": "[encoded data removed]",
      "text/plain": [
       "<IPython.core.display.Image object>"
      ]
     },
     "metadata": {},
     "output_type": "display_data"
    }
   ],
   "source": [
    "from IPython.display import Image\n",
    "\n",
    "display(Image(another_poke.image))"
   ]
  },
  {
   "cell_type": "code",
   "execution_count": 51,
   "metadata": {},
   "outputs": [
    {
     "name": "stdout",
     "output_type": "stream",
     "text": [
      "success\n"
     ]
    },
    {
     "data": {
      "image/gif": "[encoded data removed]",
      "text/plain": [
       "<IPython.core.display.Image object>"
      ]
     },
     "metadata": {},
     "output_type": "display_data"
    }
   ],
   "source": [
    "muk = Pokemon1('89', 'mud')\n",
    "muk.call_poke_api\n",
    "muk.weight\n",
    "muk.abilities\n",
    "muk.image\n",
    "display(Image(muk.image))"
   ]
  },
  {
   "cell_type": "markdown",
   "metadata": {},
   "source": [
    "### Let's Catch some Pokemon"
   ]
  },
  {
   "cell_type": "code",
   "execution_count": 127,
   "metadata": {},
   "outputs": [],
   "source": [
    "rays_pokemon = ['muk','ninetails','klefairy','jigglypuff']"
   ]
  },
  {
   "cell_type": "code",
   "execution_count": 130,
   "metadata": {},
   "outputs": [
    {
     "name": "stdout",
     "output_type": "stream",
     "text": [
      "success\n",
      "Error status code 404\n",
      "Error status code 404\n",
      "success\n",
      "{'muk': <__main__.Pokemon1 object at 0x0000026A8FF91EB0>, 'ninetails': <__main__.Pokemon1 object at 0x0000026A8FE595B0>, 'klefairy': <__main__.Pokemon1 object at 0x0000026A8FE5E130>, 'jigglypuff': <__main__.Pokemon1 object at 0x0000026A8FE74AF0>}\n"
     ]
    }
   ],
   "source": [
    "pokedex = {}\n",
    "for pokemon in rays_pokemon:\n",
    "    pokedex[pokemon] = Pokemon1(pokemon, 'generic name')\n",
    "    \n",
    "print(pokedex)\n"
   ]
  },
  {
   "cell_type": "code",
   "execution_count": 132,
   "metadata": {},
   "outputs": [
    {
     "name": "stdout",
     "output_type": "stream",
     "text": [
      "success\n",
      "success\n"
     ]
    },
    {
     "data": {
      "text/plain": [
       "{'squirtle': <__main__.Pokemon1 at 0x26a903c9460>,\n",
       " 'mewtwo': <__main__.Pokemon1 at 0x26a903c99d0>}"
      ]
     },
     "execution_count": 132,
     "metadata": {},
     "output_type": "execute_result"
    }
   ],
   "source": [
    "class Pokedex:\n",
    "    def __init__(self, username):\n",
    "        self.username = username\n",
    "        self.pokemon = {}\n",
    "        \n",
    "    def add_pokemon(self, pokemon):\n",
    "        self.pokemon[pokemon] = Pokemon1(pokemon, 'monster')\n",
    "new_pokedex = Pokedex('ray')\n",
    "new_pokedex.add_pokemon('squirtle')\n",
    "new_pokedex.add_pokemon('mewtwo')\n",
    "new_pokedex.username\n",
    "new_pokedex.pokemon"
   ]
  },
  {
   "cell_type": "code",
   "execution_count": 52,
   "metadata": {},
   "outputs": [
    {
     "ename": "NameError",
     "evalue": "name 'new_pokedex' is not defined",
     "output_type": "error",
     "traceback": [
      "\u001b[1;31m---------------------------------------------------------------------------\u001b[0m",
      "\u001b[1;31mNameError\u001b[0m                                 Traceback (most recent call last)",
      "\u001b[1;32m~\\AppData\\Local\\Temp\\ipykernel_13852\\648120445.py\u001b[0m in \u001b[0;36m<module>\u001b[1;34m\u001b[0m\n\u001b[0;32m      5\u001b[0m         \u001b[0mprint\u001b[0m\u001b[1;33m(\u001b[0m\u001b[0mpoke_dict\u001b[0m\u001b[1;33m[\u001b[0m\u001b[0mpoke\u001b[0m\u001b[1;33m]\u001b[0m\u001b[1;33m.\u001b[0m\u001b[0mname\u001b[0m\u001b[1;33m)\u001b[0m\u001b[1;33m\u001b[0m\u001b[1;33m\u001b[0m\u001b[0m\n\u001b[0;32m      6\u001b[0m \u001b[1;33m\u001b[0m\u001b[0m\n\u001b[1;32m----> 7\u001b[1;33m \u001b[0mprint_user_pokemon\u001b[0m\u001b[1;33m(\u001b[0m\u001b[0mnew_pokedex\u001b[0m\u001b[1;33m)\u001b[0m\u001b[1;33m\u001b[0m\u001b[1;33m\u001b[0m\u001b[0m\n\u001b[0m",
      "\u001b[1;31mNameError\u001b[0m: name 'new_pokedex' is not defined"
     ]
    }
   ],
   "source": [
    "def print_user_pokemon(pokedex):\n",
    "    print(f'{pokedex.username}\\'s pokemon:')\n",
    "    poke_dict = pokedex.pokemon\n",
    "    for poke in pokedex.pokemon:\n",
    "        print(poke_dict[poke].name)\n",
    "\n",
    "print_user_pokemon(new_pokedex)"
   ]
  },
  {
   "cell_type": "markdown",
   "metadata": {},
   "source": [
    "## Exercise 1:"
   ]
  },
  {
   "cell_type": "markdown",
   "metadata": {},
   "source": [
    "### Create a Method prints an image of your pokemon\n",
    "\n",
    "<p>HINT: You may need another attribute as well to store your image url within. </p>"
   ]
  },
  {
   "cell_type": "code",
   "execution_count": 6,
   "metadata": {},
   "outputs": [],
   "source": [
    "# Display an image in Jupyter notebook\n",
    "\n",
    "# display(Image( 'https://i.redd.it/45n4mhusa8l41.jpg', width = 300))\n"
   ]
  },
  {
   "cell_type": "code",
   "execution_count": 59,
   "metadata": {},
   "outputs": [],
   "source": [
    "# recreate your pokemon class here\n",
    "import requests\n",
    "from IPython.display import Image\n",
    "\n",
    "class Pokemon1():\n",
    "    def __init__(self, name, nickname):\n",
    "        self.name = name\n",
    "        self.nickname = nickname\n",
    "        self.abilities = []\n",
    "        self.types = []\n",
    "        self.weight = None\n",
    "        self.image = None\n",
    "        self.pokemon_image\n",
    "   \n",
    "    def pokemon_image(self):\n",
    "        response = requests.get(f'https://pokeapi.co/api/v2/pokemon/{self.name}')\n",
    "        response.status_code\n",
    "        if response.status_code == 200:\n",
    "            print('success')\n",
    "            data = response.json()\n",
    "            self.image = data['sprites']['versions']['generation-i']['red-blue']['front_default']\n",
    "\n",
    "\n"
   ]
  },
  {
   "cell_type": "code",
   "execution_count": 58,
   "metadata": {},
   "outputs": [
    {
     "name": "stdout",
     "output_type": "stream",
     "text": [
      "success\n"
     ]
    },
    {
     "data": {
      "image/png": "[encoded data removed]",
      "text/plain": [
       "<IPython.core.display.Image object>"
      ]
     },
     "metadata": {},
     "output_type": "display_data"
    }
   ],
   "source": [
    "pokemon = Pokemon1('ditto', 'mimic')\n",
    "pokemon.pokemon_image()\n",
    "\n",
    "display(Image(pokemon.image))"
   ]
  },
  {
   "cell_type": "code",
   "execution_count": 12,
   "metadata": {},
   "outputs": [
    {
     "data": {
      "text/plain": [
       "200"
      ]
     },
     "execution_count": 12,
     "metadata": {},
     "output_type": "execute_result"
    }
   ],
   "source": [
    "# Calling our new method\n",
    "\n"
   ]
  },
  {
   "cell_type": "markdown",
   "metadata": {},
   "source": [
    "## Exercise 2:"
   ]
  },
  {
   "cell_type": "markdown",
   "metadata": {},
   "source": [
    "### Create a Method that evolves your Pokemon\n",
    "If your pokemon can't evolve any further print a message that says \"\\<name of pokemon> can't evolve.\""
   ]
  },
  {
   "cell_type": "code",
   "execution_count": 39,
   "metadata": {},
   "outputs": [
    {
     "name": "stdout",
     "output_type": "stream",
     "text": [
      "fearow Would like to Evolve! do you wish to continue?:\n",
      " type no to keep keep leveling or press enter to continue with the Evolution process!:\n",
      "\n",
      "Evolution Complete! fearow has been replaced with fearow\n",
      "Here is your Pokedex: ['fearow']\n",
      "fearow would like to Evolve! do you wish to continue?:\n",
      " type no to keep keep leveling or press enter to continue with the Evolution process!:\n",
      "\n",
      "You have been tricked! fearow has no more Evolutions left!\n"
     ]
    }
   ],
   "source": [
    "import requests\n",
    "from IPython.display import Image\n",
    "\n",
    "class Pokemon1():\n",
    "    def __init__(self, name, nickname):\n",
    "        self.name = name\n",
    "        self.nickname = nickname\n",
    "        self.abilities = []\n",
    "        self.types = []\n",
    "        self.weight = None\n",
    "        self.image = None\n",
    "        self.pokemon_image\n",
    "        self.id = None\n",
    "        self.poke_list = []\n",
    "        self.evo_chain = None\n",
    "        self.evolve_pokemon\n",
    "        \n",
    "   \n",
    "    def pokemon_image(self):\n",
    "        response = requests.get(f'https://pokeapi.co/api/v2/pokemon/{self.name}')\n",
    "        response.status_code\n",
    "        if response.status_code == 200:\n",
    "            print('success')\n",
    "            data = response.json()\n",
    "            self.image = data['sprites']['versions']['generation-i']['red-blue']['front_default']\n",
    "    \n",
    "    def evolve_pokemon(self):\n",
    "        self.poke_list.append(self.name)\n",
    "        response = requests.get(f'https://pokeapi.co/api/v2/pokemon/{self.name}')\n",
    "        response.status_code\n",
    "        if response.status_code != 200:\n",
    "            print('Pokemon does not exist!')\n",
    "        else:\n",
    "            data = response.json()\n",
    "            self.id = data['id']\n",
    "            species_url = requests.get(f'https://pokeapi.co/api/v2/pokemon-species/{self.id}/')\n",
    "            species_data = species_url.json()\n",
    "            self.evo_chain = species_data['evolution_chain']['url']\n",
    "            evo_url = requests.get(f'{self.evo_chain}')\n",
    "            evo_data = evo_url.json()\n",
    "            res = input(f'{self.name} Would like to Evolve! do you wish to continue?:\\n type no to keep keep leveling or press enter to continue with the Evolution process!:\\n')\n",
    "            if res.lower() == 'no':\n",
    "                print('Okay! Keep leveling!')\n",
    "            else:\n",
    "                if evo_data['chain']['evolves_to'] == []:\n",
    "                    print(f'You have been tricked! {self.name} has no Evolutions!\\nHere is your Pokedex: {self.poke_list}')\n",
    "                else:\n",
    "                    self.evolve_pokemon = evo_data['chain']['evolves_to'][0]['species']['name']\n",
    "                    self.poke_list[0] = self.evolve_pokemon\n",
    "                    print(f'Evolution Complete! {self.name} has been replaced with {self.evolve_pokemon}\\nHere is your Pokedex: {self.poke_list}')\n",
    "                    res_2 = input(f'{self.evolve_pokemon} would like to Evolve! do you wish to continue?:\\n type no to keep keep leveling or press enter to continue with the Evolution process!:\\n')\n",
    "                    if res_2.lower() == 'no':\n",
    "                        print('Okay! Keep leveling!')\n",
    "                    else:\n",
    "                        if evo_data['chain']['evolves_to'][0]['evolves_to'] == []:\n",
    "                            print(f'You have been tricked! {self.evolve_pokemon} has no more Evolutions left!')\n",
    "                        else:\n",
    "                            self.evolve_pokemon_2 = evo_data['chain']['evolves_to'][0]['evolves_to'][0]['species']['name']\n",
    "                            self.poke_list[0] = self.evolve_pokemon_2\n",
    "                            print(f'Evolution Complete! {self.evolve_pokemon} has been replaces with {self.evolve_pokemon_2}\\nHere is your Pokedex: {self.poke_list}')\n",
    "        \n",
    "                \n",
    "                \n",
    "                \n",
    "\n",
    "            \n",
    "\n",
    "new_poke = Pokemon1('spearow', 'flameboy')\n",
    "new_poke.evolve_pokemon()\n",
    "            \n"
   ]
  },
  {
   "cell_type": "markdown",
   "metadata": {},
   "source": [
    "Now let's evolve a few"
   ]
  },
  {
   "cell_type": "code",
   "execution_count": 48,
   "metadata": {
    "scrolled": true
   },
   "outputs": [
    {
     "name": "stdout",
     "output_type": "stream",
     "text": [
      "charmander Would like to Evolve! do you wish to continue?:\n",
      " type no to keep keep leveling or press enter to continue with the Evolution process!:\n",
      "\n",
      "Evolution Complete! charmander has been replaced with charmeleon\n",
      "Here is your Pokedex: ['charmeleon']\n",
      "charmeleon would like to Evolve! do you wish to continue?:\n",
      " type no to keep keep leveling or press enter to continue with the Evolution process!:\n",
      "\n",
      "Evolution Complete! charmeleon has been replaces with charizard\n",
      "Here is your Pokedex: ['charizard']\n"
     ]
    }
   ],
   "source": [
    "new_poke = Pokemon1('charmander', 'flameboy')\n",
    "new_poke.evolve_pokemon()"
   ]
  },
  {
   "cell_type": "code",
   "execution_count": 41,
   "metadata": {},
   "outputs": [
    {
     "name": "stdout",
     "output_type": "stream",
     "text": [
      "weedle Would like to Evolve! do you wish to continue?:\n",
      " type no to keep keep leveling or press enter to continue with the Evolution process!:\n",
      "\n",
      "Evolution Complete! weedle has been replaced with kakuna\n",
      "Here is your Pokedex: ['kakuna']\n",
      "kakuna would like to Evolve! do you wish to continue?:\n",
      " type no to keep keep leveling or press enter to continue with the Evolution process!:\n",
      "\n",
      "Evolution Complete! kakuna has been replaces with beedrill\n",
      "Here is your Pokedex: ['beedrill']\n"
     ]
    }
   ],
   "source": [
    "newpoke = Pokemon1('weedle', 'hornworm')\n",
    "newpoke.evolve_pokemon()"
   ]
  },
  {
   "cell_type": "code",
   "execution_count": 46,
   "metadata": {},
   "outputs": [
    {
     "name": "stdout",
     "output_type": "stream",
     "text": [
      "Pokemon does not exist!\n"
     ]
    }
   ],
   "source": [
    "newpoke1 = Pokemon1('diglit', 'lesser known \"party\" diglett')\n",
    "newpoke1.evolve_pokemon()"
   ]
  },
  {
   "cell_type": "code",
   "execution_count": 47,
   "metadata": {},
   "outputs": [
    {
     "name": "stdout",
     "output_type": "stream",
     "text": [
      "diglett Would like to Evolve! do you wish to continue?:\n",
      " type no to keep keep leveling or press enter to continue with the Evolution process!:\n",
      "\n",
      "Evolution Complete! diglett has been replaced with dugtrio\n",
      "Here is your Pokedex: ['dugtrio']\n",
      "dugtrio would like to Evolve! do you wish to continue?:\n",
      " type no to keep keep leveling or press enter to continue with the Evolution process!:\n",
      "\n",
      "You have been tricked! dugtrio has no more Evolutions left!\n"
     ]
    }
   ],
   "source": [
    "newpoke2 = Pokemon1('diglett', 'groundthumb')\n",
    "newpoke2.evolve_pokemon()"
   ]
  },
  {
   "cell_type": "markdown",
   "metadata": {},
   "source": [
    "#  Final Exercise: <br> <br>Create a Move_Tutor Class that will allow the Pokemon Class to inherit a move list.\n",
    "<br>\n",
    "<p>for an added bonus you can make sure that if a pokemon has 4 moves the user can choose one of them to replace with a new move. </p>"
   ]
  },
  {
   "cell_type": "code",
   "execution_count": 19,
   "metadata": {},
   "outputs": [],
   "source": [
    "class Move_Tutor:\n",
    "    def __init__(self):\n",
    "        self.move_list = []"
   ]
  },
  {
   "cell_type": "code",
   "execution_count": null,
   "metadata": {},
   "outputs": [],
   "source": []
  },
  {
   "cell_type": "code",
   "execution_count": 81,
   "metadata": {},
   "outputs": [
    {
     "name": "stdout",
     "output_type": "stream",
     "text": [
      "What move would you like to teach pikachu? spark\n",
      "pikachu learned spark!\n"
     ]
    }
   ],
   "source": [
    "pikachu.teach_move()\n"
   ]
  },
  {
   "cell_type": "code",
   "execution_count": 79,
   "metadata": {},
   "outputs": [
    {
     "name": "stdout",
     "output_type": "stream",
     "text": [
      "pikachu's moves'\n",
      "thunder\n",
      "surf\n",
      "earthquake\n"
     ]
    }
   ],
   "source": [
    "pikachu.show_moves()"
   ]
  }
 ],
 "metadata": {
  "kernelspec": {
   "display_name": "Python 3 (ipykernel)",
   "language": "python",
   "name": "python3"
  },
  "language_info": {
   "codemirror_mode": {
    "name": "ipython",
    "version": 3
   },
   "file_extension": ".py",
   "mimetype": "text/x-python",
   "name": "python",
   "nbconvert_exporter": "python",
   "pygments_lexer": "ipython3",
   "version": "3.9.13"
  }
 },
 "nbformat": 4,
 "nbformat_minor": 4
}
